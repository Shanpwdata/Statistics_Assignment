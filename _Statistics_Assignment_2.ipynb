{
 "cells": [
  {
   "cell_type": "markdown",
   "id": "47e612b0-ddef-482e-aa01-cdb9d9fc411c",
   "metadata": {},
   "source": [
    "Q1. What are the three measures of central tendency?"
   ]
  },
  {
   "cell_type": "markdown",
   "id": "074637a4-2e2d-4bf8-95dd-856cc8a54481",
   "metadata": {},
   "source": [
    "#Ans_1.\n",
    "* Measures of Central Tendency:\n",
    "    * Mean (Average):-The mean is calculated by summing up all the values in the dataset and dividing by the number of data points.\n",
    "    * Median:-The median is the middle value when the data is ordered from smallest to largest (or largest to smallest). If there's an even number of data points, the median is the average of the two middle values.\n",
    "    * Mode:-The mode is the value that occurs most frequently in the dataset."
   ]
  },
  {
   "cell_type": "markdown",
   "id": "1850d677-5975-4bd6-98e7-d2e5cad08047",
   "metadata": {},
   "source": [
    "Q2. What is the difference between the mean, median, and mode? How are they used to measure the\n",
    "central tendency of a dataset?"
   ]
  },
  {
   "cell_type": "markdown",
   "id": "e881c0b2-93ed-4146-ad1e-a7a71e17769b",
   "metadata": {},
   "source": [
    "#Ans_2.\n",
    "* The mean, median, and mode are three different measures of central tendency used in statistics:-\n",
    " * Mean:\n",
    "   * The mean is also known as the average.\n",
    "   * To calculate the mean, you add up all the values in the dataset and then divide by the number of values.\n",
    "   * Formula: Mean = (Sum of all values) / (Number of values)\n",
    "   * The mean is sensitive to outliers; extreme values can significantly affect the mean.\n",
    "   * It is commonly used for normally distributed data or when you want to find the average value of a dataset.\n",
    " * Median:\n",
    "   * The median is the middle value in a dataset when the values are arranged in ascending or descending order.\n",
    "   * If there is an even number of data points, the median is the average of the two middle values.\n",
    "   * The median is less affected by outliers compared to the mean, making it more robust in the presence of extreme values.\n",
    "   * It is often used when the data may have outliers or is not normally distributed.\n",
    " * Mode:\n",
    "   * The mode is the most frequently occurring value or values in a dataset.\n",
    "   * A dataset can have one mode (unimodal), multiple modes (multimodal), or no mode (if all values occur with the same frequency).\n",
    "   * The mode is useful for identifying the most common category or value in categorical data.\n",
    "   * In some cases, there may be no mode or multiple modes."
   ]
  },
  {
   "cell_type": "markdown",
   "id": "68005173-3deb-4652-8488-2850387dbd79",
   "metadata": {},
   "source": [
    "Q3. Measure the three measures of central tendency for the given height data:\n",
    "* [178,177,176,177,178.2,178,175,179,180,175,178.9,176.2,177,172.5,178,176.5]"
   ]
  },
  {
   "cell_type": "code",
   "execution_count": 1,
   "id": "34e06494-7e5e-4988-9fe2-6724b04f04e7",
   "metadata": {},
   "outputs": [],
   "source": [
    "#Ans_3.\n",
    "import numpy as np\n",
    "\n",
    "height_data = [178,177,176,177,178.2,178,175,179,180,175,178.9,176.2,177,172.5,178,176.5]"
   ]
  },
  {
   "cell_type": "code",
   "execution_count": 2,
   "id": "8549e3c4-9875-46f9-9e02-6f3c333c45e9",
   "metadata": {},
   "outputs": [
    {
     "data": {
      "text/plain": [
       "177.01875"
      ]
     },
     "execution_count": 2,
     "metadata": {},
     "output_type": "execute_result"
    }
   ],
   "source": [
    "np.mean(height_data)"
   ]
  },
  {
   "cell_type": "code",
   "execution_count": 4,
   "id": "cab8df7f-adf2-455e-979c-86fd02154fdd",
   "metadata": {},
   "outputs": [
    {
     "data": {
      "text/plain": [
       "177.0"
      ]
     },
     "execution_count": 4,
     "metadata": {},
     "output_type": "execute_result"
    }
   ],
   "source": [
    "np.median(height_data)"
   ]
  },
  {
   "cell_type": "code",
   "execution_count": 6,
   "id": "b924d559-c74e-4630-a517-9142fed309ff",
   "metadata": {},
   "outputs": [
    {
     "name": "stderr",
     "output_type": "stream",
     "text": [
      "/tmp/ipykernel_102/802727725.py:2: FutureWarning: Unlike other reduction functions (e.g. `skew`, `kurtosis`), the default behavior of `mode` typically preserves the axis it acts along. In SciPy 1.11.0, this behavior will change: the default value of `keepdims` will become False, the `axis` over which the statistic is taken will be eliminated, and the value None will no longer be accepted. Set `keepdims` to True or False to avoid this warning.\n",
      "  stats.mode(height_data)\n"
     ]
    },
    {
     "data": {
      "text/plain": [
       "ModeResult(mode=array([177.]), count=array([3]))"
      ]
     },
     "execution_count": 6,
     "metadata": {},
     "output_type": "execute_result"
    }
   ],
   "source": [
    "from scipy import stats\n",
    "stats.mode(height_data)"
   ]
  },
  {
   "cell_type": "markdown",
   "id": "452ec56e-49a1-40ee-9e1c-0c4bcc91a888",
   "metadata": {},
   "source": [
    "Q4. Find the standard deviation for the given data:\n",
    "* [178,177,176,177,178.2,178,175,179,180,175,178.9,176.2,177,172.5,178,176.5]"
   ]
  },
  {
   "cell_type": "code",
   "execution_count": 7,
   "id": "91c6358a-0d56-48a6-9785-a237a7c4c038",
   "metadata": {},
   "outputs": [],
   "source": [
    "#Ans_4.\n",
    "data_= [178,177,176,177,178.2,178,175,179,180,175,178.9,176.2,177,172.5,178,176.5]"
   ]
  },
  {
   "cell_type": "code",
   "execution_count": 8,
   "id": "98b23e72-d9fa-43a8-bbb6-5c135b6eab10",
   "metadata": {},
   "outputs": [
    {
     "data": {
      "text/plain": [
       "1.7885814036548633"
      ]
     },
     "execution_count": 8,
     "metadata": {},
     "output_type": "execute_result"
    }
   ],
   "source": [
    "np.std(data_)"
   ]
  },
  {
   "cell_type": "markdown",
   "id": "20a90f4a-e1d4-4e05-84b1-17f79ce8f414",
   "metadata": {},
   "source": [
    "Q5. How are measures of dispersion such as range, variance, and standard deviation used to describe\n",
    "the spread of a dataset? Provide an example."
   ]
  },
  {
   "cell_type": "markdown",
   "id": "72c21868-3e0d-46f6-917c-7ae02312ce50",
   "metadata": {},
   "source": [
    "#Ans_5.\n",
    "* Measures of dispersion, such as range, variance, and standard deviation, are used to describe how spread out or dispersed the values in a dataset are. They provide insights into the variability or the extent to which data points deviate from the central tendency (e.g., mean or median). Let's explore each of these measures and provide an example:\n",
    "\n",
    "  * Range:- The range is the simplest measure of dispersion and represents the difference between the maximum and minimum values in a dataset.\n",
    "    * Formula: Range = Maximum Value - Minimum Value\n",
    "    * Example: Consider a dataset of daily temperatures (in degrees Fahrenheit) for a city over a week: [60, 65, 68, 72, 75, 80, 85]. The range would be 85 (maximum) - 60 (minimum) = 25 degrees Fahrenheit. This indicates that the temperatures vary by 25 degrees over the week.\n",
    "  * Variance:- Variance measures the average of the squared differences between each data point and the mean.\n",
    "    * Formula: Variance = Σ (xi - x̄)² / (n - 1), where xi is each data point, x̄ is the mean, and n is the number of data points.\n",
    "    * Example: Let's use the same dataset of daily temperatures. First, calculate the mean (x̄) as (60 + 65 + 68 + 72 + 75 + 80 + 85) / 7 = 71.14 (approximately). Then, calculate the variance using the formula. The variance would be a numerical value that quantifies how the temperatures deviate from the mean.\n",
    "  * Standard Deviation:- The standard deviation is the square root of the variance and provides a measure of dispersion in the same units as the original data.\n",
    "    * Formula: Standard Deviation = √Variance\n",
    "    * Example: Continuing with the temperature dataset, once you've calculated the variance, you can find the standard deviation by taking the square root of the variance. This value represents how much the daily temperatures typically deviate from the mean.\n",
    "\n",
    "* In the example, the range tells you the extent of temperature variation, but it doesn't provide information about the distribution of those variations. Variance and standard deviation, on the other hand, quantify the spread while considering the magnitude of each deviation. A larger standard deviation implies more significant variability, while a smaller one suggests less variability."
   ]
  },
  {
   "cell_type": "markdown",
   "id": "1731e444-0b5a-4f0f-925e-50f6b7f04235",
   "metadata": {},
   "source": [
    "Q6. What is a Venn diagram?"
   ]
  },
  {
   "cell_type": "markdown",
   "id": "463b22dd-ed55-4771-8eb6-84b63aac28e2",
   "metadata": {},
   "source": [
    "#Ans_6.\n",
    "* A Venn diagram is a visual representation that uses overlapping circles or shapes to show the commonalities and differences between two or more sets or groups of objects or elements. It is commonly used to illustrate the relationships and intersections among these sets, helping to visualize how they overlap or are distinct from each other."
   ]
  },
  {
   "cell_type": "markdown",
   "id": "519ae345-d157-404a-a9d3-a1890bf0dc73",
   "metadata": {},
   "source": [
    "Q7. For the two given sets A = (2,3,4,5,6,7) & B = (0,2,6,8,10). Find:\n",
    "* (i) A B\n",
    "* (ii) A ⋃ B"
   ]
  },
  {
   "cell_type": "markdown",
   "id": "a116a578-a135-4152-84b0-db2d55fbbaeb",
   "metadata": {},
   "source": [
    "#Ans_7.\n",
    "* A = (2,3,4,5,6,7) \n",
    "* B = (0,2,6,8,10)\n",
    "\n",
    "* A ∩ B = {2, 6}\n",
    "* A U B = {0,2,3,4,5,6,7,8,10}"
   ]
  },
  {
   "cell_type": "markdown",
   "id": "bf7236ad-e207-4f34-bc10-265af4eb49e2",
   "metadata": {},
   "source": [
    "Q8. What do you understand about skewness in data?"
   ]
  },
  {
   "cell_type": "markdown",
   "id": "aea07070-a472-48a6-a2ac-e4a883b1cba2",
   "metadata": {},
   "source": [
    "#Ans_8.\n",
    "* Skewness in data refers to the measure of the asymmetry or lack of symmetry in the distribution of data points. In a skewed distribution:\n",
    "\n",
    "  * Positive Skew (Right-skewed): The tail on the right side is longer or fatter, and the majority of data points cluster to the left. The mean is typically greater than the median.\n",
    "\n",
    "  * Negative Skew (Left-skewed): The tail on the left side is longer or fatter, and most data points cluster to the right. The mean is typically less than the median."
   ]
  },
  {
   "cell_type": "markdown",
   "id": "2b7c59c2-b952-44fa-b440-b9acd35848db",
   "metadata": {},
   "source": [
    "Q9. If a data is right skewed then what will be the position of median with respect to mean?"
   ]
  },
  {
   "cell_type": "markdown",
   "id": "4b86bee6-3527-4099-a890-9cdfa6bf3b4d",
   "metadata": {},
   "source": [
    "#Ans_9.\n",
    "* If a data is right skewed then:- \n",
    "  * Mean >= Median>= Mode"
   ]
  },
  {
   "cell_type": "markdown",
   "id": "5a94a0cd-453b-4e2f-b3bd-e0e058f42ce7",
   "metadata": {},
   "source": [
    "Q10. Explain the difference between covariance and correlation. How are these measures used in\n",
    "statistical analysis?"
   ]
  },
  {
   "cell_type": "markdown",
   "id": "c91b86b9-b805-4ee2-b903-c654958527ca",
   "metadata": {},
   "source": [
    "#Ans_10.\n",
    "* Covariance and correlation are both measures used in statistical analysis to quantify the relationship between two variables, but they serve slightly different purposes and have different scales:\n",
    "\n",
    " * Covariance:- Covariance measures the degree to which two variables change together.\n",
    "   * It can be positive, negative, or zero:\n",
    "   * Positive covariance: Indicates that when one variable increases, the other tends to increase as well, and when one decreases, the other tends to decrease.\n",
    "   * Negative covariance: Indicates that when one variable increases, the other tends to decrease, and vice versa.\n",
    "   * Zero covariance: Indicates that there is no consistent linear relationship between the variables.\n",
    "   * Covariance does not have a standardized scale, making it challenging to interpret the strength of the relationship.\n",
    " * Correlation:- Correlation is a standardized measure of the linear relationship between two variables.\n",
    "   * It always falls within the range of -1 to 1:\n",
    "   * A correlation coefficient of +1 indicates a perfect positive linear relationship.\n",
    "   * A correlation coefficient of -1 indicates a perfect negative linear relationship.\n",
    "   * A correlation coefficient of 0 indicates no linear relationship.\n",
    "   * Correlation provides a clear and interpretable measure of the strength and direction of the relationship between variables, and it is not affected by the scale of the variables."
   ]
  },
  {
   "cell_type": "markdown",
   "id": "a714ee5f-69a5-4795-ad67-b5fdc2c76fad",
   "metadata": {},
   "source": [
    "Q11. What is the formula for calculating the sample mean? Provide an example calculation for a\n",
    "dataset."
   ]
  },
  {
   "cell_type": "markdown",
   "id": "3bb0bfad-4493-4887-895c-7e78dd549db5",
   "metadata": {},
   "source": [
    "#Ans_11.\n",
    "* The formula for calculating the sample mean (often denoted as \"x̄\") is:\n",
    " * Sample Mean (x̄) = (Sum of all the individual data points) / (Number of data points)\n",
    "\n",
    "* Example dataset of test scores for five students: 85, 92, 78, 88, and 95.\n",
    " * To calculate the sample mean:\n",
    "   * Add up all the individual scores:- 85 + 92 + 78 + 88 + 95 = 438\n",
    "   * Determine the number of data points, which in this case is 5 (there are 5 students).\n",
    "   * formula to calculate the sample mean:\n",
    "   * x̄ = 438 / 5 = 87.6\n",
    " * So, the sample mean test score for these five students is 87.6."
   ]
  },
  {
   "cell_type": "markdown",
   "id": "5b29432b-3a3d-4ea5-8068-b9b75c3f94d4",
   "metadata": {},
   "source": [
    "Q12. For a normal distribution data what is the relationship between its measure of central tendency?"
   ]
  },
  {
   "cell_type": "markdown",
   "id": "8d8913ac-7680-4206-b26c-20801f64fcc6",
   "metadata": {},
   "source": [
    "#Ans_12.\n",
    "* Relationship between its measures of central tendency, the mean, median, and mode all are perfectly at the centre.\n",
    "    * Mean = Median = Mode"
   ]
  },
  {
   "cell_type": "markdown",
   "id": "8204f887-c7f5-4601-a602-c5b6188c5336",
   "metadata": {},
   "source": [
    "Q13. How is covariance different from correlation?"
   ]
  },
  {
   "cell_type": "markdown",
   "id": "490e7217-372c-4100-97b0-9301d6241b42",
   "metadata": {},
   "source": [
    "#Ans_13.\n",
    "* Major difference between covariance and correlation is :-\n",
    "   * Covariance does not have a specific limit value but in correlation the limit is in (-1 to +1)."
   ]
  },
  {
   "cell_type": "markdown",
   "id": "e8b27bc4-b47c-4411-afce-f2f351e1c189",
   "metadata": {},
   "source": [
    "Q14. How do outliers affect measures of central tendency and dispersion? Provide an example."
   ]
  },
  {
   "cell_type": "markdown",
   "id": "098f3d8b-d16e-4495-b7e6-909ad3f24810",
   "metadata": {},
   "source": [
    "#Ans_14.\n",
    "* Example:\n",
    " * Consider a dataset of salaries for a small company:- Salaries = [30,000, 35,000, 40,000, 45,000, 50,000, 60,000, 1,000,000]\n",
    "\n",
    "   * Mean without the outlier: (30,000 + 35,000 + 40,000 + 45,000 + 50,000 + 60,000) / 6 = $45,833.33\n",
    "   * Mean with the outlier: (30,000 + 35,000 + 40,000 + 45,000 + 50,000 + 60,000 + 1,000,000) / 7 = $171,571.43\n",
    "     * we can see that the mean is heavily influenced by the outlier (the $1,000,000 salary), making it much larger. On the other hand:\n",
    "\n",
    "   * Median without the outlier: 45,000\n",
    "   * Median with the outlier: 45,000\n",
    "     * The median remains the same, showing that it is less affected by the outlier.\n",
    "\n",
    "   * Standard Deviation without the outlier: $10,361.54\n",
    "   * Standard Deviation with the outlier: $299,282.14\n",
    "     * The standard deviation increases significantly with the outlier, indicating higher variability in the dataset."
   ]
  },
  {
   "cell_type": "code",
   "execution_count": null,
   "id": "b34d8909-54bf-4765-8aa4-85ad1cf6bbb1",
   "metadata": {},
   "outputs": [],
   "source": []
  }
 ],
 "metadata": {
  "kernelspec": {
   "display_name": "Python 3 (ipykernel)",
   "language": "python",
   "name": "python3"
  },
  "language_info": {
   "codemirror_mode": {
    "name": "ipython",
    "version": 3
   },
   "file_extension": ".py",
   "mimetype": "text/x-python",
   "name": "python",
   "nbconvert_exporter": "python",
   "pygments_lexer": "ipython3",
   "version": "3.10.8"
  }
 },
 "nbformat": 4,
 "nbformat_minor": 5
}
